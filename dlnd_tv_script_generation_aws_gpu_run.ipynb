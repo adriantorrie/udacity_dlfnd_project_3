{
 "cells": [
  {
   "cell_type": "markdown",
   "metadata": {
    "deletable": true,
    "editable": true
   },
   "source": [
    "# TV Script Generation\n",
    "In this project, you'll generate your own [Simpsons](https://en.wikipedia.org/wiki/The_Simpsons) TV scripts using RNNs.  You'll be using part of the [Simpsons dataset](https://www.kaggle.com/wcukierski/the-simpsons-by-the-data) of scripts from 27 seasons.  The Neural Network you'll build will generate a new TV script for a scene at [Moe's Tavern](https://simpsonswiki.com/wiki/Moe's_Tavern).\n",
    "## Get the Data\n",
    "The data is already provided for you.  You'll be using a subset of the original dataset.  It consists of only the scenes in Moe's Tavern.  This doesn't include other versions of the tavern, like \"Moe's Cavern\", \"Flaming Moe's\", \"Uncle Moe's Family Feed-Bag\", etc.."
   ]
  },
  {
   "cell_type": "code",
   "execution_count": 1,
   "metadata": {
    "ExecuteTime": {
     "end_time": "2017-04-10T21:29:54.095512Z",
     "start_time": "2017-04-10T21:29:54.090288"
    },
    "collapsed": false,
    "deletable": true,
    "editable": true
   },
   "outputs": [],
   "source": [
    "\"\"\"\n",
    "DON'T MODIFY ANYTHING IN THIS CELL\n",
    "\"\"\"\n",
    "import helper\n",
    "\n",
    "data_dir = './data/simpsons/moes_tavern_lines.txt'\n",
    "text = helper.load_data(data_dir)\n",
    "# Ignore notice, since we don't use it for analysing the data\n",
    "text = text[81:]"
   ]
  },
  {
   "cell_type": "markdown",
   "metadata": {
    "deletable": true,
    "editable": true
   },
   "source": [
    "## Explore the Data\n",
    "Play around with `view_sentence_range` to view different parts of the data."
   ]
  },
  {
   "cell_type": "code",
   "execution_count": 2,
   "metadata": {
    "ExecuteTime": {
     "end_time": "2017-04-10T21:29:54.404640Z",
     "start_time": "2017-04-10T21:29:54.097898"
    },
    "collapsed": false,
    "deletable": true,
    "editable": true
   },
   "outputs": [
    {
     "name": "stdout",
     "output_type": "stream",
     "text": [
      "Dataset Stats\n",
      "Roughly the number of unique words: 11492\n",
      "Number of scenes: 262\n",
      "Average number of sentences in each scene: 15.248091603053435\n",
      "Number of lines: 4257\n",
      "Average number of words in each line: 11.50434578341555\n",
      "\n",
      "The sentences 0 to 10:\n",
      "Moe_Szyslak: (INTO PHONE) Moe's Tavern. Where the elite meet to drink.\n",
      "Bart_Simpson: Eh, yeah, hello, is Mike there? Last name, Rotch.\n",
      "Moe_Szyslak: (INTO PHONE) Hold on, I'll check. (TO BARFLIES) Mike Rotch. Mike Rotch. Hey, has anybody seen Mike Rotch, lately?\n",
      "Moe_Szyslak: (INTO PHONE) Listen you little puke. One of these days I'm gonna catch you, and I'm gonna carve my name on your back with an ice pick.\n",
      "Moe_Szyslak: What's the matter Homer? You're not your normal effervescent self.\n",
      "Homer_Simpson: I got my problems, Moe. Give me another one.\n",
      "Moe_Szyslak: Homer, hey, you should not drink to forget your problems.\n",
      "Barney_Gumble: Yeah, you should only drink to enhance your social skills.\n",
      "\n",
      "\n"
     ]
    }
   ],
   "source": [
    "view_sentence_range = (0, 10)\n",
    "\n",
    "\"\"\"\n",
    "DON'T MODIFY ANYTHING IN THIS CELL\n",
    "\"\"\"\n",
    "import numpy as np\n",
    "\n",
    "print('Dataset Stats')\n",
    "print('Roughly the number of unique words: {}'.format(len({word: None for word in text.split()})))\n",
    "scenes = text.split('\\n\\n')\n",
    "print('Number of scenes: {}'.format(len(scenes)))\n",
    "sentence_count_scene = [scene.count('\\n') for scene in scenes]\n",
    "print('Average number of sentences in each scene: {}'.format(np.average(sentence_count_scene)))\n",
    "\n",
    "sentences = [sentence for scene in scenes for sentence in scene.split('\\n')]\n",
    "print('Number of lines: {}'.format(len(sentences)))\n",
    "word_count_sentence = [len(sentence.split()) for sentence in sentences]\n",
    "print('Average number of words in each line: {}'.format(np.average(word_count_sentence)))\n",
    "\n",
    "print()\n",
    "print('The sentences {} to {}:'.format(*view_sentence_range))\n",
    "print('\\n'.join(text.split('\\n')[view_sentence_range[0]:view_sentence_range[1]]))"
   ]
  },
  {
   "cell_type": "markdown",
   "metadata": {
    "deletable": true,
    "editable": true
   },
   "source": [
    "## Implement Preprocessing Functions\n",
    "The first thing to do to any dataset is preprocessing.  Implement the following preprocessing functions below:\n",
    "- Lookup Table\n",
    "- Tokenize Punctuation\n",
    "\n",
    "### Lookup Table\n",
    "To create a word embedding, you first need to transform the words to ids.  In this function, create two dictionaries:\n",
    "- Dictionary to go from the words to an id, we'll call `vocab_to_int`\n",
    "- Dictionary to go from the id to word, we'll call `int_to_vocab`\n",
    "\n",
    "Return these dictionaries in the following tuple `(vocab_to_int, int_to_vocab)`"
   ]
  },
  {
   "cell_type": "code",
   "execution_count": 3,
   "metadata": {
    "ExecuteTime": {
     "end_time": "2017-04-10T21:29:56.143347Z",
     "start_time": "2017-04-10T21:29:54.406900"
    },
    "collapsed": false,
    "deletable": true,
    "editable": true
   },
   "outputs": [
    {
     "name": "stdout",
     "output_type": "stream",
     "text": [
      "Tests Passed\n"
     ]
    }
   ],
   "source": [
    "import numpy as np\n",
    "import problem_unittests as tests\n",
    "\n",
    "def create_lookup_tables(text):\n",
    "    \"\"\"\n",
    "    Create lookup tables for vocabulary\n",
    "    :param text: The text of tv scripts split into words\n",
    "    :return: A tuple of dicts (vocab_to_int, int_to_vocab)\n",
    "    \"\"\"\n",
    "    # TODO: Implement Function\n",
    "    vocab_to_int = {word: i for i, word in enumerate(set(text))}\n",
    "    int_to_vocab = {vocab_to_int[key]: key for key in vocab_to_int.keys()}\n",
    "    return (vocab_to_int, int_to_vocab)\n",
    "\n",
    "\n",
    "\"\"\"\n",
    "DON'T MODIFY ANYTHING IN THIS CELL THAT IS BELOW THIS LINE\n",
    "\"\"\"\n",
    "tests.test_create_lookup_tables(create_lookup_tables)"
   ]
  },
  {
   "cell_type": "markdown",
   "metadata": {
    "deletable": true,
    "editable": true
   },
   "source": [
    "### Tokenize Punctuation\n",
    "We'll be splitting the script into a word array using spaces as delimiters.  However, punctuations like periods and exclamation marks make it hard for the neural network to distinguish between the word \"bye\" and \"bye!\".\n",
    "\n",
    "Implement the function `token_lookup` to return a dict that will be used to tokenize symbols like \"!\" into \"||Exclamation_Mark||\".  Create a dictionary for the following symbols where the symbol is the key and value is the token:\n",
    "- Period ( . )\n",
    "- Comma ( , )\n",
    "- Quotation Mark ( \" )\n",
    "- Semicolon ( ; )\n",
    "- Exclamation mark ( ! )\n",
    "- Question mark ( ? )\n",
    "- Left Parentheses ( ( )\n",
    "- Right Parentheses ( ) )\n",
    "- Dash ( -- )\n",
    "- Return ( \\n )\n",
    "\n",
    "This dictionary will be used to token the symbols and add the delimiter (space) around it.  This separates the symbols as it's own word, making it easier for the neural network to predict on the next word. Make sure you don't use a token that could be confused as a word. Instead of using the token \"dash\", try using something like \"||dash||\"."
   ]
  },
  {
   "cell_type": "code",
   "execution_count": 4,
   "metadata": {
    "ExecuteTime": {
     "end_time": "2017-04-10T21:29:56.158152Z",
     "start_time": "2017-04-10T21:29:56.145565"
    },
    "collapsed": false,
    "deletable": true,
    "editable": true
   },
   "outputs": [
    {
     "name": "stdout",
     "output_type": "stream",
     "text": [
      "Tests Passed\n"
     ]
    }
   ],
   "source": [
    "def token_lookup():\n",
    "    \"\"\"\n",
    "    Generate a dict to turn punctuation into a token.\n",
    "    :return: Tokenize dictionary where the key is the punctuation and the value is the token\n",
    "    \"\"\"\n",
    "    # TODO: Implement Function\n",
    "    return {\".\": \"||period||\",\n",
    "            \",\": \"||comma||\",\n",
    "            \"\\\"\": \"||quotation_mark||\",\n",
    "            \";\": \"||semicolon||\",\n",
    "            \"!\": \"||exclamation_mark||\",\n",
    "            \"?\": \"||question_mark||\",\n",
    "            \"(\": \"||left_parentheses||\",\n",
    "            \")\": \"||right_parentheses||\",\n",
    "            \"--\": \"||dash||\",\n",
    "            \"\\n\": \"||new_line||\",\n",
    "           }\n",
    "\n",
    "\"\"\"\n",
    "DON'T MODIFY ANYTHING IN THIS CELL THAT IS BELOW THIS LINE\n",
    "\"\"\"\n",
    "tests.test_tokenize(token_lookup)"
   ]
  },
  {
   "cell_type": "markdown",
   "metadata": {
    "deletable": true,
    "editable": true
   },
   "source": [
    "## Preprocess all the data and save it\n",
    "Running the code cell below will preprocess all the data and save it to file."
   ]
  },
  {
   "cell_type": "code",
   "execution_count": 5,
   "metadata": {
    "ExecuteTime": {
     "end_time": "2017-04-10T21:29:56.405388Z",
     "start_time": "2017-04-10T21:29:56.160479"
    },
    "collapsed": false,
    "deletable": true,
    "editable": true
   },
   "outputs": [],
   "source": [
    "\"\"\"\n",
    "DON'T MODIFY ANYTHING IN THIS CELL\n",
    "\"\"\"\n",
    "# Preprocess Training, Validation, and Testing Data\n",
    "helper.preprocess_and_save_data(data_dir, token_lookup, create_lookup_tables)"
   ]
  },
  {
   "cell_type": "markdown",
   "metadata": {
    "deletable": true,
    "editable": true
   },
   "source": [
    "# Check Point\n",
    "This is your first checkpoint. If you ever decide to come back to this notebook or have to restart the notebook, you can start from here. The preprocessed data has been saved to disk."
   ]
  },
  {
   "cell_type": "code",
   "execution_count": 6,
   "metadata": {
    "ExecuteTime": {
     "end_time": "2017-04-10T21:29:56.542761Z",
     "start_time": "2017-04-10T21:29:56.407132"
    },
    "collapsed": false,
    "deletable": true,
    "editable": true
   },
   "outputs": [],
   "source": [
    "\"\"\"\n",
    "DON'T MODIFY ANYTHING IN THIS CELL\n",
    "\"\"\"\n",
    "import helper\n",
    "import numpy as np\n",
    "import problem_unittests as tests\n",
    "\n",
    "int_text, vocab_to_int, int_to_vocab, token_dict = helper.load_preprocess()"
   ]
  },
  {
   "cell_type": "markdown",
   "metadata": {
    "deletable": true,
    "editable": true
   },
   "source": [
    "## Build the Neural Network\n",
    "You'll build the components necessary to build a RNN by implementing the following functions below:\n",
    "- get_inputs\n",
    "- get_init_cell\n",
    "- get_embed\n",
    "- build_rnn\n",
    "- build_nn\n",
    "- get_batches\n",
    "\n",
    "### Check the Version of TensorFlow and Access to GPU"
   ]
  },
  {
   "cell_type": "code",
   "execution_count": 7,
   "metadata": {
    "ExecuteTime": {
     "end_time": "2017-04-10T21:29:56.650974Z",
     "start_time": "2017-04-10T21:29:56.545901"
    },
    "collapsed": false,
    "deletable": true,
    "editable": true
   },
   "outputs": [
    {
     "name": "stdout",
     "output_type": "stream",
     "text": [
      "TensorFlow Version: 1.0.0\n",
      "Default GPU Device: /gpu:0\n"
     ]
    }
   ],
   "source": [
    "\"\"\"\n",
    "DON'T MODIFY ANYTHING IN THIS CELL\n",
    "\"\"\"\n",
    "from distutils.version import LooseVersion\n",
    "import warnings\n",
    "import tensorflow as tf\n",
    "\n",
    "# Check TensorFlow Version\n",
    "assert LooseVersion(tf.__version__) >= LooseVersion('1.0'), 'Please use TensorFlow version 1.0 or newer'\n",
    "print('TensorFlow Version: {}'.format(tf.__version__))\n",
    "\n",
    "# Check for a GPU\n",
    "if not tf.test.gpu_device_name():\n",
    "    warnings.warn('No GPU found. Please use a GPU to train your neural network.')\n",
    "else:\n",
    "    print('Default GPU Device: {}'.format(tf.test.gpu_device_name()))"
   ]
  },
  {
   "cell_type": "markdown",
   "metadata": {
    "deletable": true,
    "editable": true
   },
   "source": [
    "### Input\n",
    "Implement the `get_inputs()` function to create TF Placeholders for the Neural Network.  It should create the following placeholders:\n",
    "- Input text placeholder named \"input\" using the [TF Placeholder](https://www.tensorflow.org/api_docs/python/tf/placeholder) `name` parameter.\n",
    "- Targets placeholder\n",
    "- Learning Rate placeholder\n",
    "\n",
    "Return the placeholders in the following the tuple `(Input, Targets, LearingRate)`"
   ]
  },
  {
   "cell_type": "code",
   "execution_count": 8,
   "metadata": {
    "ExecuteTime": {
     "end_time": "2017-04-10T21:29:56.837309Z",
     "start_time": "2017-04-10T21:29:56.653066"
    },
    "collapsed": true,
    "deletable": true,
    "editable": true
   },
   "outputs": [],
   "source": [
    "# https://www.tensorflow.org/tutorials/word2vec\n",
    "# https://github.com/tensorflow/tensorflow/blob/master/tensorflow/examples/tutorials/word2vec/word2vec_basic.py\n",
    "# https://www.tensorflow.org/tutorials/word2vec#the_skip-gram_model"
   ]
  },
  {
   "cell_type": "code",
   "execution_count": 9,
   "metadata": {
    "ExecuteTime": {
     "end_time": "2017-04-10T21:29:56.955799Z",
     "start_time": "2017-04-10T21:29:56.839336"
    },
    "collapsed": false,
    "deletable": true,
    "editable": true
   },
   "outputs": [
    {
     "name": "stdout",
     "output_type": "stream",
     "text": [
      "Tests Passed\n"
     ]
    }
   ],
   "source": [
    "def get_inputs():\n",
    "    \"\"\"\n",
    "    Create TF Placeholders for input, targets, and learning rate.\n",
    "    :return: Tuple (input, targets, learning rate)\n",
    "    \"\"\"\n",
    "    input =  tf.placeholder(tf.int32, shape=[None, None], name=\"input\")\n",
    "    target = tf.placeholder(tf.int32, shape=[None, None], name=\"target\")\n",
    "    learning_rate = tf.placeholder(tf.float32, name=\"learning_rate\")\n",
    "    \n",
    "    return input, target, learning_rate\n",
    "\n",
    "\n",
    "\"\"\"\n",
    "DON'T MODIFY ANYTHING IN THIS CELL THAT IS BELOW THIS LINE\n",
    "\"\"\"\n",
    "tests.test_get_inputs(get_inputs)"
   ]
  },
  {
   "cell_type": "markdown",
   "metadata": {
    "deletable": true,
    "editable": true
   },
   "source": [
    "### Build RNN Cell and Initialize\n",
    "Stack one or more [`BasicLSTMCells`](https://www.tensorflow.org/api_docs/python/tf/contrib/rnn/BasicLSTMCell) in a [`MultiRNNCell`](https://www.tensorflow.org/api_docs/python/tf/contrib/rnn/MultiRNNCell).\n",
    "- The Rnn size should be set using `rnn_size`\n",
    "- Initalize Cell State using the MultiRNNCell's [`zero_state()`](https://www.tensorflow.org/api_docs/python/tf/contrib/rnn/MultiRNNCell#zero_state) function\n",
    "    - Apply the name \"initial_state\" to the initial state using [`tf.identity()`](https://www.tensorflow.org/api_docs/python/tf/identity)\n",
    "\n",
    "Return the cell and initial state in the following tuple `(Cell, InitialState)`"
   ]
  },
  {
   "cell_type": "code",
   "execution_count": 10,
   "metadata": {
    "ExecuteTime": {
     "end_time": "2017-04-10T21:29:57.076316Z",
     "start_time": "2017-04-10T21:29:56.958875"
    },
    "collapsed": false,
    "deletable": true,
    "editable": true
   },
   "outputs": [
    {
     "name": "stdout",
     "output_type": "stream",
     "text": [
      "Tests Passed\n"
     ]
    }
   ],
   "source": [
    "# https://www.tensorflow.org/tutorials/recurrent#stacking_multiple_lstms\n",
    "# https://github.com/tensorflow/tensorflow/blob/master/tensorflow/contrib/rnn/python/ops/core_rnn_cell_impl.py#L190\n",
    "def get_init_cell(batch_size, rnn_size, lstm_layers=2):\n",
    "    \"\"\"\n",
    "    Create an RNN Cell and initialize it.\n",
    "    :param batch_size: Size of batches\n",
    "    :param rnn_size: Size of RNNs\n",
    "    :return: Tuple (cell, initialize state)\n",
    "    \"\"\"\n",
    "    lstm = tf.contrib.rnn.BasicLSTMCell(rnn_size)\n",
    "    cell = tf.contrib.rnn.MultiRNNCell([lstm] * lstm_layers)\n",
    "    \n",
    "    initial_state = cell.zero_state(batch_size, tf.float32)\n",
    "    initial_state = tf.identity(initial_state, name=\"initial_state\")\n",
    "    \n",
    "    return cell, initial_state\n",
    "\n",
    "\n",
    "\"\"\"\n",
    "DON'T MODIFY ANYTHING IN THIS CELL THAT IS BELOW THIS LINE\n",
    "\"\"\"\n",
    "tests.test_get_init_cell(get_init_cell)"
   ]
  },
  {
   "cell_type": "markdown",
   "metadata": {
    "deletable": true,
    "editable": true
   },
   "source": [
    "### Word Embedding\n",
    "Apply embedding to `input_data` using TensorFlow.  Return the embedded sequence."
   ]
  },
  {
   "cell_type": "code",
   "execution_count": 11,
   "metadata": {
    "ExecuteTime": {
     "end_time": "2017-04-10T21:29:57.225657Z",
     "start_time": "2017-04-10T21:29:57.078795"
    },
    "collapsed": false,
    "deletable": true,
    "editable": true
   },
   "outputs": [
    {
     "name": "stdout",
     "output_type": "stream",
     "text": [
      "Tests Passed\n"
     ]
    }
   ],
   "source": [
    "def get_embed(input_data, vocab_size, embed_dim):\n",
    "    \"\"\"\n",
    "    Create embedding for <input_data>.\n",
    "    :param input_data: TF placeholder for text input.\n",
    "    :param vocab_size: Number of words in vocabulary.\n",
    "    :param embed_dim: Number of embedding dimensions\n",
    "    :return: Embedded input.\n",
    "    \"\"\"\n",
    "    embeddings = tf.Variable(tf.random_uniform([vocab_size, embed_dim], \n",
    "                                              -1.0, \n",
    "                                              1.0))\n",
    "    embed = tf.nn.embedding_lookup(embeddings, input_data)\n",
    "    return embed\n",
    "\n",
    "\n",
    "\"\"\"\n",
    "DON'T MODIFY ANYTHING IN THIS CELL THAT IS BELOW THIS LINE\n",
    "\"\"\"\n",
    "tests.test_get_embed(get_embed)"
   ]
  },
  {
   "cell_type": "markdown",
   "metadata": {
    "deletable": true,
    "editable": true
   },
   "source": [
    "### Build RNN\n",
    "You created a RNN Cell in the `get_init_cell()` function.  Time to use the cell to create a RNN.\n",
    "- Build the RNN using the [`tf.nn.dynamic_rnn()`](https://www.tensorflow.org/api_docs/python/tf/nn/dynamic_rnn)\n",
    " - Apply the name \"final_state\" to the final state using [`tf.identity()`](https://www.tensorflow.org/api_docs/python/tf/identity)\n",
    "\n",
    "Return the outputs and final_state state in the following tuple `(Outputs, FinalState)` "
   ]
  },
  {
   "cell_type": "code",
   "execution_count": 12,
   "metadata": {
    "ExecuteTime": {
     "end_time": "2017-04-10T21:29:57.457315Z",
     "start_time": "2017-04-10T21:29:57.227095"
    },
    "collapsed": false,
    "deletable": true,
    "editable": true
   },
   "outputs": [
    {
     "name": "stdout",
     "output_type": "stream",
     "text": [
      "Tests Passed\n"
     ]
    }
   ],
   "source": [
    "def build_rnn(cell, inputs):\n",
    "    \"\"\"\n",
    "    Create a RNN using a RNN Cell\n",
    "    :param cell: RNN Cell\n",
    "    :param inputs: Input text data\n",
    "    :return: Tuple (Outputs, Final State)\n",
    "    \"\"\"\n",
    "    outputs, final_state = tf.nn.dynamic_rnn(cell, inputs, dtype=tf.float32)\n",
    "    final_state = tf.identity(final_state, name=\"final_state\")\n",
    "    \n",
    "    return outputs, final_state \n",
    "\n",
    "\n",
    "\"\"\"\n",
    "DON'T MODIFY ANYTHING IN THIS CELL THAT IS BELOW THIS LINE\n",
    "\"\"\"\n",
    "tests.test_build_rnn(build_rnn)"
   ]
  },
  {
   "cell_type": "markdown",
   "metadata": {
    "deletable": true,
    "editable": true
   },
   "source": [
    "### Build the Neural Network\n",
    "Apply the functions you implemented above to:\n",
    "- Apply embedding to `input_data` using your `get_embed(input_data, vocab_size, embed_dim)` function.\n",
    "- Build RNN using `cell` and your `build_rnn(cell, inputs)` function.\n",
    "- Apply a fully connected layer with a linear activation and `vocab_size` as the number of outputs.\n",
    "\n",
    "Return the logits and final state in the following tuple (Logits, FinalState) "
   ]
  },
  {
   "cell_type": "code",
   "execution_count": null,
   "metadata": {
    "ExecuteTime": {
     "end_time": "2017-04-10T21:29:57.640145Z",
     "start_time": "2017-04-10T21:29:57.459154"
    },
    "collapsed": false,
    "deletable": true,
    "editable": true
   },
   "outputs": [],
   "source": [
    "# https://www.tensorflow.org/api_docs/python/tf/contrib/layers/fully_connected\n",
    "# https://www.tensorflow.org/api_docs/python/tf/truncated_normal_initializer\n",
    "def build_nn(cell, rnn_size, input_data, vocab_size):\n",
    "    \"\"\"\n",
    "    Build part of the neural network\n",
    "    :param cell: RNN cell\n",
    "    :param rnn_size: Size of rnns\n",
    "    :param input_data: Input data\n",
    "    :param vocab_size: Vocabulary size\n",
    "    :return: Tuple (Logits, FinalState)\n",
    "    \"\"\"\n",
    "    # embed = get_embed(input_data, vocab_size, rnn_size) # currently running\n",
    "    embed = get_embed(input_data, vocab_size, rnn_size)\n",
    "    outputs, final_state = build_rnn(cell, embed)\n",
    "    logits = tf.contrib.layers.fully_connected(outputs, \n",
    "                                               vocab_size, \n",
    "                                               activation_fn=None,\n",
    "                                               weights_initializer=tf.truncated_normal_initializer(stddev=0.1),\n",
    "                                               biases_initializer=tf.zeros_initializer())\n",
    "\n",
    "    return logits, final_state\n",
    "\n",
    "\n",
    "\"\"\"\n",
    "DON'T MODIFY ANYTHING IN THIS CELL THAT IS BELOW THIS LINE\n",
    "\"\"\"\n",
    "tests.test_build_nn(build_nn)"
   ]
  },
  {
   "cell_type": "markdown",
   "metadata": {
    "deletable": true,
    "editable": true
   },
   "source": [
    "### Batches\n",
    "Implement `get_batches` to create batches of input and targets using `int_text`.  The batches should be a Numpy array with the shape `(number of batches, 2, batch size, sequence length)`. Each batch contains two elements:\n",
    "- The first element is a single batch of **input** with the shape `[batch size, sequence length]`\n",
    "- The second element is a single batch of **targets** with the shape `[batch size, sequence length]`\n",
    "\n",
    "If you can't fill the last batch with enough data, drop the last batch.\n",
    "\n",
    "For exmple, `get_batches([1, 2, 3, 4, 5, 6, 7, 8, 9, 10, 11, 12, 13, 14, 15], 2, 3)` would return a Numpy array of the following:\n",
    "```\n",
    "[\n",
    "  # First Batch\n",
    "  [\n",
    "    # Batch of Input\n",
    "    [[ 1  2  3], [ 7  8  9]],\n",
    "    # Batch of targets\n",
    "    [[ 2  3  4], [ 8  9 10]]\n",
    "  ],\n",
    " \n",
    "  # Second Batch\n",
    "  [\n",
    "    # Batch of Input\n",
    "    [[ 4  5  6], [10 11 12]],\n",
    "    # Batch of targets\n",
    "    [[ 5  6  7], [11 12 13]]\n",
    "  ]\n",
    "]\n",
    "```"
   ]
  },
  {
   "cell_type": "code",
   "execution_count": 14,
   "metadata": {
    "ExecuteTime": {
     "end_time": "2017-04-10T21:29:57.663376Z",
     "start_time": "2017-04-10T21:29:57.642332"
    },
    "collapsed": false,
    "deletable": true,
    "editable": true
   },
   "outputs": [
    {
     "data": {
      "text/plain": [
       "2"
      ]
     },
     "execution_count": 14,
     "metadata": {},
     "output_type": "execute_result"
    }
   ],
   "source": [
    "test_text = [1, 2, 3, 4, 5, 6, 7, 8, 9, 10, 11, 12, 13, 14, 15]\n",
    "test_batch_size = 2\n",
    "test_seq_length = 3\n",
    "\n",
    "test_n_batches = int(len(test_text) / (test_batch_size * test_seq_length))\n",
    "test_n_batches"
   ]
  },
  {
   "cell_type": "code",
   "execution_count": 15,
   "metadata": {
    "ExecuteTime": {
     "end_time": "2017-04-10T21:29:57.774947Z",
     "start_time": "2017-04-10T21:29:57.666735"
    },
    "collapsed": false,
    "deletable": true,
    "editable": true
   },
   "outputs": [
    {
     "data": {
      "text/plain": [
       "array([ 1,  2,  3,  4,  5,  6,  7,  8,  9, 10, 11, 12])"
      ]
     },
     "execution_count": 15,
     "metadata": {},
     "output_type": "execute_result"
    }
   ],
   "source": [
    "test_inputs = np.array(test_text[: test_n_batches * test_batch_size * test_seq_length])\n",
    "test_inputs"
   ]
  },
  {
   "cell_type": "code",
   "execution_count": 16,
   "metadata": {
    "ExecuteTime": {
     "end_time": "2017-04-10T21:29:57.912586Z",
     "start_time": "2017-04-10T21:29:57.776552"
    },
    "collapsed": false,
    "deletable": true,
    "editable": true
   },
   "outputs": [
    {
     "data": {
      "text/plain": [
       "array([ 2,  3,  4,  5,  6,  7,  8,  9, 10, 11, 12, 13])"
      ]
     },
     "execution_count": 16,
     "metadata": {},
     "output_type": "execute_result"
    }
   ],
   "source": [
    "test_targets = np.array(test_text[1: test_n_batches * test_batch_size * test_seq_length + 1])\n",
    "test_targets"
   ]
  },
  {
   "cell_type": "code",
   "execution_count": 17,
   "metadata": {
    "ExecuteTime": {
     "end_time": "2017-04-10T21:29:58.058871Z",
     "start_time": "2017-04-10T21:29:57.913950"
    },
    "collapsed": false,
    "deletable": true,
    "editable": true
   },
   "outputs": [
    {
     "data": {
      "text/plain": [
       "[array([[1, 2, 3],\n",
       "        [7, 8, 9]]), array([[ 4,  5,  6],\n",
       "        [10, 11, 12]])]"
      ]
     },
     "execution_count": 17,
     "metadata": {},
     "output_type": "execute_result"
    }
   ],
   "source": [
    "test_input_batches = np.split(test_inputs.reshape(test_batch_size, -1), test_n_batches, 1)\n",
    "test_input_batches"
   ]
  },
  {
   "cell_type": "code",
   "execution_count": 18,
   "metadata": {
    "ExecuteTime": {
     "end_time": "2017-04-10T21:29:58.249516Z",
     "start_time": "2017-04-10T21:29:58.060799"
    },
    "collapsed": false,
    "deletable": true,
    "editable": true
   },
   "outputs": [
    {
     "data": {
      "text/plain": [
       "[array([[ 2,  3,  4],\n",
       "        [ 8,  9, 10]]), array([[ 5,  6,  7],\n",
       "        [11, 12, 13]])]"
      ]
     },
     "execution_count": 18,
     "metadata": {},
     "output_type": "execute_result"
    }
   ],
   "source": [
    "test_target_batches = np.split(test_targets.reshape(test_batch_size, -1), test_n_batches, 1)\n",
    "test_target_batches"
   ]
  },
  {
   "cell_type": "code",
   "execution_count": 19,
   "metadata": {
    "ExecuteTime": {
     "end_time": "2017-04-10T21:29:58.375309Z",
     "start_time": "2017-04-10T21:29:58.251326"
    },
    "collapsed": false,
    "deletable": true,
    "editable": true
   },
   "outputs": [
    {
     "data": {
      "text/plain": [
       "array([[[[ 1,  2,  3],\n",
       "         [ 7,  8,  9]],\n",
       "\n",
       "        [[ 2,  3,  4],\n",
       "         [ 8,  9, 10]]],\n",
       "\n",
       "\n",
       "       [[[ 4,  5,  6],\n",
       "         [10, 11, 12]],\n",
       "\n",
       "        [[ 5,  6,  7],\n",
       "         [11, 12, 13]]]])"
      ]
     },
     "execution_count": 19,
     "metadata": {},
     "output_type": "execute_result"
    }
   ],
   "source": [
    "test_batches = np.array(list(zip(test_input_batches, test_target_batches)))\n",
    "test_batches"
   ]
  },
  {
   "cell_type": "code",
   "execution_count": 43,
   "metadata": {
    "ExecuteTime": {
     "end_time": "2017-04-10T21:31:36.457653Z",
     "start_time": "2017-04-10T21:31:36.429846"
    },
    "collapsed": false,
    "deletable": true,
    "editable": true
   },
   "outputs": [
    {
     "name": "stdout",
     "output_type": "stream",
     "text": [
      "batch_size:\t\t128\n",
      "seq_length:\t\t5\n",
      "n_batches:\t\t7\n",
      "int_text len:\t\t5000\n",
      "input batches len:\t4480\n",
      "target batches len:\t4480\n",
      "\n",
      "Tests Passed\n"
     ]
    }
   ],
   "source": [
    "# https://slack-files.com/T3Q738VV1-F4P1VE8SY-6f4e7770d0\n",
    "# https://github.com/udacity/deep-learning/blob/master/embeddings/utils.py\n",
    "def get_batches(int_text, batch_size, seq_length):\n",
    "    \"\"\"\n",
    "    Return batches of input and target\n",
    "    :param int_text: Text with the words replaced by their ids\n",
    "    :param batch_size: The size of batch\n",
    "    :param seq_length: The length of sequence\n",
    "    :return: Batches as a Numpy array\n",
    "    \"\"\"\n",
    "    # (len(int_text) - 1) \n",
    "    # -> this removes 1 element from the len to allow for the lag\n",
    "    #    in the target list.\n",
    "    # -> if not done then when len(int_text) == len(input_batches) the reshape\n",
    "    #    on the target_batches will fail, as it's len == (input_batches) - 1\n",
    "    #    and is therefore not cleanly divisble by (batch_size * seq_length)\n",
    "    n_batches = (len(int_text) - 1) // (batch_size * seq_length)\n",
    "\n",
    "    input_batches = np.array(int_text[: n_batches * batch_size * seq_length])\n",
    "    target_batches = np.array(int_text[1: n_batches * batch_size * seq_length + 1])\n",
    "    \n",
    "    print('batch_size:\\t\\t{}'.format(batch_size))\n",
    "    print('seq_length:\\t\\t{}'.format(seq_length))\n",
    "    print('n_batches:\\t\\t{}'.format(n_batches))\n",
    "    print('int_text len:\\t\\t{}'.format(len(int_text)))\n",
    "    print('input batches len:\\t{}'.format(len(input_batches)))\n",
    "    print('target batches len:\\t{}\\n'.format(len(target_batches)))\n",
    "\n",
    "    input_batches = np.split(input_batches.reshape((batch_size, -1)), n_batches, 1)\n",
    "    target_batches = np.split(target_batches.reshape((batch_size, -1)), n_batches, 1)\n",
    "\n",
    "    return np.array(list(zip(input_batches, target_batches)))\n",
    "\n",
    "\"\"\"\n",
    "DON'T MODIFY ANYTHING IN THIS CELL THAT IS BELOW THIS LINE\n",
    "\"\"\"\n",
    "tests.test_get_batches(get_batches)"
   ]
  },
  {
   "cell_type": "markdown",
   "metadata": {
    "deletable": true,
    "editable": true
   },
   "source": [
    "## Neural Network Training\n",
    "### Hyperparameters\n",
    "Tune the following parameters:\n",
    "\n",
    "- Set `num_epochs` to the number of epochs.\n",
    "- Set `batch_size` to the batch size.\n",
    "- Set `rnn_size` to the size of the RNNs.\n",
    "- Set `seq_length` to the length of sequence.\n",
    "- Set `learning_rate` to the learning rate.\n",
    "- Set `show_every_n_batches` to the number of batches the neural network should print progress."
   ]
  },
  {
   "cell_type": "code",
   "execution_count": 63,
   "metadata": {
    "ExecuteTime": {
     "end_time": "2017-04-10T21:47:45.088416Z",
     "start_time": "2017-04-10T21:47:45.065821"
    },
    "collapsed": true,
    "deletable": true,
    "editable": true
   },
   "outputs": [],
   "source": [
    "# Number of Epochs\n",
    "num_epochs = 250\n",
    "\n",
    "# Batch Size\n",
    "batch_size = 5\n",
    "\n",
    "# RNN Size\n",
    "rnn_size = 128\n",
    "\n",
    "# LTSM layers\n",
    "lstm_layers = 3\n",
    "\n",
    "# Sequence Length\n",
    "# how the series is that we're passing through the network\n",
    "seq_length = 80\n",
    "\n",
    "# Learning Rate\n",
    "learning_rate = 0.01\n",
    "\n",
    "# Show stats for every n number of batches\n",
    "show_every_n_batches = 86\n",
    "\n",
    "\"\"\"\n",
    "DON'T MODIFY ANYTHING IN THIS CELL THAT IS BELOW THIS LINE\n",
    "\"\"\"\n",
    "save_dir = './save'"
   ]
  },
  {
   "cell_type": "markdown",
   "metadata": {
    "deletable": true,
    "editable": true
   },
   "source": [
    "### Build the Graph\n",
    "Build the graph using the neural network you implemented."
   ]
  },
  {
   "cell_type": "code",
   "execution_count": 64,
   "metadata": {
    "ExecuteTime": {
     "end_time": "2017-04-10T21:47:48.102542Z",
     "start_time": "2017-04-10T21:47:47.464770"
    },
    "collapsed": false,
    "deletable": true,
    "editable": true
   },
   "outputs": [],
   "source": [
    "\"\"\"\n",
    "DON'T MODIFY ANYTHING IN THIS CELL\n",
    "\"\"\"\n",
    "from tensorflow.contrib import seq2seq\n",
    "\n",
    "train_graph = tf.Graph()\n",
    "with train_graph.as_default():\n",
    "    vocab_size = len(int_to_vocab)\n",
    "    input_text, targets, lr = get_inputs()\n",
    "    input_data_shape = tf.shape(input_text)\n",
    "    cell, initial_state = get_init_cell(input_data_shape[0], rnn_size, lstm_layers)\n",
    "    logits, final_state = build_nn(cell, rnn_size, input_text, vocab_size)\n",
    "\n",
    "    # Probabilities for generating words\n",
    "    probs = tf.nn.softmax(logits, name='probs')\n",
    "\n",
    "    # Loss function\n",
    "    cost = seq2seq.sequence_loss(\n",
    "        logits,\n",
    "        targets,\n",
    "        tf.ones([input_data_shape[0], input_data_shape[1]]))\n",
    "\n",
    "    # Optimizer\n",
    "    optimizer = tf.train.AdamOptimizer(lr)\n",
    "\n",
    "    # Gradient Clipping\n",
    "    gradients = optimizer.compute_gradients(cost)\n",
    "    capped_gradients = [(tf.clip_by_value(grad, -1., 1.), var) for grad, var in gradients]\n",
    "    train_op = optimizer.apply_gradients(capped_gradients)"
   ]
  },
  {
   "cell_type": "markdown",
   "metadata": {
    "deletable": true,
    "editable": true
   },
   "source": [
    "## Train\n",
    "Train the neural network on the preprocessed data.  If you have a hard time getting a good loss, check the [forms](https://discussions.udacity.com/) to see if anyone is having the same problem."
   ]
  },
  {
   "cell_type": "code",
   "execution_count": null,
   "metadata": {
    "ExecuteTime": {
     "end_time": "2017-04-10T21:49:34.733109Z",
     "start_time": "2017-04-10T21:47:51.800192"
    },
    "collapsed": false,
    "deletable": true,
    "editable": true
   },
   "outputs": [
    {
     "name": "stdout",
     "output_type": "stream",
     "text": [
      "batch_size:\t\t5\n",
      "seq_length:\t\t80\n",
      "n_batches:\t\t172\n",
      "int_text len:\t\t69100\n",
      "input batches len:\t68800\n",
      "target batches len:\t68800\n",
      "\n",
      "Epoch   0 Batch    0/172   train_loss = 8.825\n",
      "Epoch   0 Batch   86/172   train_loss = 6.275\n",
      "Epoch   1 Batch    0/172   train_loss = 6.076\n",
      "Epoch   1 Batch   86/172   train_loss = 5.826\n",
      "Epoch   2 Batch    0/172   train_loss = 5.669\n",
      "Epoch   2 Batch   86/172   train_loss = 5.287\n",
      "Epoch   3 Batch    0/172   train_loss = 4.938\n",
      "Epoch   3 Batch   86/172   train_loss = 4.910\n",
      "Epoch   4 Batch    0/172   train_loss = 4.650\n",
      "Epoch   4 Batch   86/172   train_loss = 4.711\n",
      "Epoch   5 Batch    0/172   train_loss = 4.539\n",
      "Epoch   5 Batch   86/172   train_loss = 4.440\n",
      "Epoch   6 Batch    0/172   train_loss = 4.383\n",
      "Epoch   6 Batch   86/172   train_loss = 4.250\n",
      "Epoch   7 Batch    0/172   train_loss = 4.229\n",
      "Epoch   7 Batch   86/172   train_loss = 4.193\n",
      "Epoch   8 Batch    0/172   train_loss = 4.126\n",
      "Epoch   8 Batch   86/172   train_loss = 4.167\n",
      "Epoch   9 Batch    0/172   train_loss = 4.068\n",
      "Epoch   9 Batch   86/172   train_loss = 4.036\n",
      "Epoch  10 Batch    0/172   train_loss = 3.964\n",
      "Epoch  10 Batch   86/172   train_loss = 3.963\n",
      "Epoch  11 Batch    0/172   train_loss = 3.927\n",
      "Epoch  11 Batch   86/172   train_loss = 3.864\n",
      "Epoch  12 Batch    0/172   train_loss = 3.836\n",
      "Epoch  12 Batch   86/172   train_loss = 3.823\n",
      "Epoch  13 Batch    0/172   train_loss = 3.824\n",
      "Epoch  13 Batch   86/172   train_loss = 3.741\n",
      "Epoch  14 Batch    0/172   train_loss = 3.809\n",
      "Epoch  14 Batch   86/172   train_loss = 3.704\n",
      "Epoch  15 Batch    0/172   train_loss = 3.811\n",
      "Epoch  15 Batch   86/172   train_loss = 3.633\n",
      "Epoch  16 Batch    0/172   train_loss = 3.677\n",
      "Epoch  16 Batch   86/172   train_loss = 3.585\n",
      "Epoch  17 Batch    0/172   train_loss = 3.657\n",
      "Epoch  17 Batch   86/172   train_loss = 3.617\n",
      "Epoch  18 Batch    0/172   train_loss = 3.570\n",
      "Epoch  18 Batch   86/172   train_loss = 3.570\n",
      "Epoch  19 Batch    0/172   train_loss = 3.543\n",
      "Epoch  19 Batch   86/172   train_loss = 3.459\n",
      "Epoch  20 Batch    0/172   train_loss = 3.424\n",
      "Epoch  20 Batch   86/172   train_loss = 3.373\n",
      "Epoch  21 Batch    0/172   train_loss = 3.463\n",
      "Epoch  21 Batch   86/172   train_loss = 3.362\n",
      "Epoch  22 Batch    0/172   train_loss = 3.413\n",
      "Epoch  22 Batch   86/172   train_loss = 3.281\n",
      "Epoch  23 Batch    0/172   train_loss = 3.423\n",
      "Epoch  23 Batch   86/172   train_loss = 3.324\n",
      "Epoch  24 Batch    0/172   train_loss = 3.335\n",
      "Epoch  24 Batch   86/172   train_loss = 3.308\n",
      "Epoch  25 Batch    0/172   train_loss = 3.270\n",
      "Epoch  25 Batch   86/172   train_loss = 3.212\n",
      "Epoch  26 Batch    0/172   train_loss = 3.226\n",
      "Epoch  26 Batch   86/172   train_loss = 3.159\n",
      "Epoch  27 Batch    0/172   train_loss = 3.284\n",
      "Epoch  27 Batch   86/172   train_loss = 3.150\n",
      "Epoch  28 Batch    0/172   train_loss = 3.410\n",
      "Epoch  28 Batch   86/172   train_loss = 3.175\n",
      "Epoch  29 Batch    0/172   train_loss = 3.198\n",
      "Epoch  29 Batch   86/172   train_loss = 3.055\n",
      "Epoch  30 Batch    0/172   train_loss = 3.126\n",
      "Epoch  30 Batch   86/172   train_loss = 3.052\n",
      "Epoch  35 Batch   86/172   train_loss = 2.814\n",
      "Epoch  36 Batch    0/172   train_loss = 2.956\n",
      "Epoch  36 Batch   86/172   train_loss = 2.885\n",
      "Epoch  37 Batch    0/172   train_loss = 2.926\n",
      "Epoch  37 Batch   86/172   train_loss = 2.832\n",
      "Epoch  38 Batch    0/172   train_loss = 2.865\n",
      "Epoch  38 Batch   86/172   train_loss = 2.833\n",
      "Epoch  39 Batch    0/172   train_loss = 2.866\n",
      "Epoch  39 Batch   86/172   train_loss = 2.767\n",
      "Epoch  40 Batch    0/172   train_loss = 2.903\n",
      "Epoch  40 Batch   86/172   train_loss = 2.723\n",
      "Epoch  41 Batch    0/172   train_loss = 2.837\n",
      "Epoch  41 Batch   86/172   train_loss = 2.691\n",
      "Epoch  42 Batch    0/172   train_loss = 2.830\n",
      "Epoch  42 Batch   86/172   train_loss = 2.710\n",
      "Epoch  43 Batch    0/172   train_loss = 2.792\n",
      "Epoch  43 Batch   86/172   train_loss = 2.750\n",
      "Epoch  44 Batch    0/172   train_loss = 2.895\n",
      "Epoch  44 Batch   86/172   train_loss = 2.616\n",
      "Epoch  45 Batch    0/172   train_loss = 2.830\n",
      "Epoch  45 Batch   86/172   train_loss = 2.691\n",
      "Epoch  46 Batch    0/172   train_loss = 2.913\n",
      "Epoch  46 Batch   86/172   train_loss = 2.757\n",
      "Epoch  47 Batch    0/172   train_loss = 2.709\n",
      "Epoch  47 Batch   86/172   train_loss = 2.710\n",
      "Epoch  48 Batch    0/172   train_loss = 2.736\n",
      "Epoch  48 Batch   86/172   train_loss = 2.777\n",
      "Epoch  49 Batch    0/172   train_loss = 2.897\n",
      "Epoch  49 Batch   86/172   train_loss = 2.745\n",
      "Epoch  50 Batch    0/172   train_loss = 2.834\n",
      "Epoch  50 Batch   86/172   train_loss = 2.613\n",
      "Epoch  51 Batch    0/172   train_loss = 2.648\n",
      "Epoch  51 Batch   86/172   train_loss = 2.607\n",
      "Epoch  52 Batch    0/172   train_loss = 2.689\n",
      "Epoch  52 Batch   86/172   train_loss = 2.596\n",
      "Epoch  53 Batch    0/172   train_loss = 2.541\n",
      "Epoch  53 Batch   86/172   train_loss = 2.531\n",
      "Epoch  54 Batch    0/172   train_loss = 2.510\n",
      "Epoch  54 Batch   86/172   train_loss = 2.504\n",
      "Epoch  55 Batch    0/172   train_loss = 2.499\n",
      "Epoch  55 Batch   86/172   train_loss = 2.470\n",
      "Epoch  56 Batch    0/172   train_loss = 2.514\n",
      "Epoch  56 Batch   86/172   train_loss = 2.492\n",
      "Epoch  57 Batch    0/172   train_loss = 2.549\n",
      "Epoch  57 Batch   86/172   train_loss = 2.460\n",
      "Epoch  58 Batch    0/172   train_loss = 2.543\n",
      "Epoch  58 Batch   86/172   train_loss = 2.468\n",
      "Epoch  59 Batch    0/172   train_loss = 2.496\n",
      "Epoch  59 Batch   86/172   train_loss = 2.350\n",
      "Epoch  60 Batch    0/172   train_loss = 2.476\n",
      "Epoch  60 Batch   86/172   train_loss = 2.413\n",
      "Epoch  61 Batch    0/172   train_loss = 2.461\n",
      "Epoch  61 Batch   86/172   train_loss = 2.280\n",
      "Epoch  62 Batch    0/172   train_loss = 2.441\n",
      "Epoch  62 Batch   86/172   train_loss = 2.338\n",
      "Epoch  63 Batch    0/172   train_loss = 2.464\n",
      "Epoch  63 Batch   86/172   train_loss = 2.260\n",
      "Epoch  64 Batch    0/172   train_loss = 2.406\n",
      "Epoch  64 Batch   86/172   train_loss = 2.227\n",
      "Epoch  65 Batch    0/172   train_loss = 2.375\n",
      "Epoch  65 Batch   86/172   train_loss = 2.250\n",
      "Epoch  66 Batch    0/172   train_loss = 2.369\n",
      "Epoch  66 Batch   86/172   train_loss = 2.238\n",
      "Epoch  67 Batch    0/172   train_loss = 2.442\n",
      "Epoch  67 Batch   86/172   train_loss = 2.187\n",
      "Epoch  68 Batch    0/172   train_loss = 2.321\n",
      "Epoch  68 Batch   86/172   train_loss = 2.209\n",
      "Epoch  69 Batch    0/172   train_loss = 2.246\n",
      "Epoch  69 Batch   86/172   train_loss = 2.154\n",
      "Epoch  70 Batch    0/172   train_loss = 2.226\n",
      "Epoch  70 Batch   86/172   train_loss = 2.105\n",
      "Epoch  71 Batch    0/172   train_loss = 2.328\n",
      "Epoch  71 Batch   86/172   train_loss = 2.075\n",
      "Epoch  72 Batch    0/172   train_loss = 2.215\n",
      "Epoch  72 Batch   86/172   train_loss = 2.182\n",
      "Epoch  73 Batch    0/172   train_loss = 2.227\n",
      "Epoch  73 Batch   86/172   train_loss = 2.110\n",
      "Epoch  74 Batch    0/172   train_loss = 2.219\n",
      "Epoch  74 Batch   86/172   train_loss = 2.089\n",
      "Epoch  75 Batch    0/172   train_loss = 2.225\n",
      "Epoch  75 Batch   86/172   train_loss = 2.140\n",
      "Epoch  76 Batch    0/172   train_loss = 2.075\n",
      "Epoch  76 Batch   86/172   train_loss = 2.143\n",
      "Epoch  77 Batch    0/172   train_loss = 2.196\n",
      "Epoch  77 Batch   86/172   train_loss = 2.116\n",
      "Epoch  78 Batch    0/172   train_loss = 2.146\n",
      "Epoch  78 Batch   86/172   train_loss = 2.106\n",
      "Epoch  79 Batch    0/172   train_loss = 2.175\n",
      "Epoch  79 Batch   86/172   train_loss = 2.072\n",
      "Epoch  80 Batch    0/172   train_loss = 2.142\n",
      "Epoch  80 Batch   86/172   train_loss = 2.032\n",
      "Epoch  81 Batch    0/172   train_loss = 2.107\n",
      "Epoch  81 Batch   86/172   train_loss = 2.029\n",
      "Epoch  82 Batch    0/172   train_loss = 2.136\n",
      "Epoch  82 Batch   86/172   train_loss = 2.012\n",
      "Epoch  83 Batch    0/172   train_loss = 2.143\n",
      "Epoch  83 Batch   86/172   train_loss = 2.023\n",
      "Epoch  84 Batch    0/172   train_loss = 2.154\n",
      "Epoch  84 Batch   86/172   train_loss = 1.991\n",
      "Epoch  85 Batch    0/172   train_loss = 2.076\n",
      "Epoch  85 Batch   86/172   train_loss = 2.065\n",
      "Epoch  86 Batch    0/172   train_loss = 2.102\n",
      "Epoch  86 Batch   86/172   train_loss = 1.981\n",
      "Epoch  87 Batch    0/172   train_loss = 2.060\n",
      "Epoch  87 Batch   86/172   train_loss = 1.925\n",
      "Epoch  88 Batch    0/172   train_loss = 2.045\n",
      "Epoch  88 Batch   86/172   train_loss = 1.910\n",
      "Epoch  89 Batch    0/172   train_loss = 2.011\n",
      "Epoch  89 Batch   86/172   train_loss = 1.956\n",
      "Epoch  90 Batch    0/172   train_loss = 1.993\n",
      "Epoch  90 Batch   86/172   train_loss = 1.905\n",
      "Epoch  91 Batch    0/172   train_loss = 1.942\n",
      "Epoch  91 Batch   86/172   train_loss = 1.913\n",
      "Epoch  92 Batch    0/172   train_loss = 2.009\n",
      "Epoch  92 Batch   86/172   train_loss = 1.873\n",
      "Epoch  93 Batch    0/172   train_loss = 1.978\n",
      "Epoch  93 Batch   86/172   train_loss = 1.988\n",
      "Epoch  94 Batch    0/172   train_loss = 1.939\n",
      "Epoch  94 Batch   86/172   train_loss = 1.932\n",
      "Epoch  95 Batch    0/172   train_loss = 1.982\n",
      "Epoch  95 Batch   86/172   train_loss = 1.894\n",
      "Epoch  96 Batch    0/172   train_loss = 1.959\n",
      "Epoch  96 Batch   86/172   train_loss = 1.911\n",
      "Epoch  97 Batch    0/172   train_loss = 1.905\n",
      "Epoch  97 Batch   86/172   train_loss = 1.835\n",
      "Epoch  98 Batch    0/172   train_loss = 1.856\n",
      "Epoch  98 Batch   86/172   train_loss = 1.912\n",
      "Epoch  99 Batch    0/172   train_loss = 1.940\n",
      "Epoch  99 Batch   86/172   train_loss = 1.904\n",
      "Epoch 100 Batch    0/172   train_loss = 1.931\n",
      "Epoch 100 Batch   86/172   train_loss = 1.822\n",
      "Epoch 101 Batch    0/172   train_loss = 1.986\n",
      "Epoch 101 Batch   86/172   train_loss = 1.803\n",
      "Epoch 102 Batch    0/172   train_loss = 1.847\n",
      "Epoch 102 Batch   86/172   train_loss = 1.910\n",
      "Epoch 103 Batch    0/172   train_loss = 1.911\n",
      "Epoch 103 Batch   86/172   train_loss = 1.855\n",
      "Epoch 104 Batch    0/172   train_loss = 1.904\n",
      "Epoch 104 Batch   86/172   train_loss = 1.986\n",
      "Epoch 105 Batch    0/172   train_loss = 1.900\n",
      "Epoch 105 Batch   86/172   train_loss = 1.837\n",
      "Epoch 106 Batch    0/172   train_loss = 1.892\n",
      "Epoch 106 Batch   86/172   train_loss = 1.787\n",
      "Epoch 107 Batch    0/172   train_loss = 1.829\n",
      "Epoch 107 Batch   86/172   train_loss = 1.867\n",
      "Epoch 108 Batch    0/172   train_loss = 1.819\n",
      "Epoch 108 Batch   86/172   train_loss = 1.834\n",
      "Epoch 109 Batch    0/172   train_loss = 1.907\n",
      "Epoch 109 Batch   86/172   train_loss = 1.752\n",
      "Epoch 110 Batch    0/172   train_loss = 1.842\n",
      "Epoch 110 Batch   86/172   train_loss = 1.909\n",
      "Epoch 111 Batch    0/172   train_loss = 1.836\n",
      "Epoch 111 Batch   86/172   train_loss = 1.760\n",
      "Epoch 112 Batch    0/172   train_loss = 1.793\n",
      "Epoch 112 Batch   86/172   train_loss = 1.777\n",
      "Epoch 113 Batch    0/172   train_loss = 1.890\n",
      "Epoch 113 Batch   86/172   train_loss = 1.769\n",
      "Epoch 114 Batch    0/172   train_loss = 1.769\n",
      "Epoch 114 Batch   86/172   train_loss = 1.785\n",
      "Epoch 115 Batch    0/172   train_loss = 1.850\n",
      "Epoch 115 Batch   86/172   train_loss = 1.766\n",
      "Epoch 116 Batch    0/172   train_loss = 1.819\n",
      "Epoch 116 Batch   86/172   train_loss = 1.806\n",
      "Epoch 117 Batch    0/172   train_loss = 1.764\n",
      "Epoch 117 Batch   86/172   train_loss = 1.772\n",
      "Epoch 118 Batch    0/172   train_loss = 1.759\n",
      "Epoch 118 Batch   86/172   train_loss = 1.787\n",
      "Epoch 119 Batch    0/172   train_loss = 1.752\n",
      "Epoch 119 Batch   86/172   train_loss = 1.711\n",
      "Epoch 120 Batch    0/172   train_loss = 1.803\n",
      "Epoch 120 Batch   86/172   train_loss = 1.777\n",
      "Epoch 121 Batch    0/172   train_loss = 1.710\n",
      "Epoch 121 Batch   86/172   train_loss = 1.831\n",
      "Epoch 122 Batch    0/172   train_loss = 1.811\n",
      "Epoch 122 Batch   86/172   train_loss = 1.872\n",
      "Epoch 123 Batch    0/172   train_loss = 1.736\n",
      "Epoch 123 Batch   86/172   train_loss = 1.760\n",
      "Epoch 124 Batch    0/172   train_loss = 1.717\n",
      "Epoch 124 Batch   86/172   train_loss = 1.793\n",
      "Epoch 125 Batch    0/172   train_loss = 1.716\n",
      "Epoch 125 Batch   86/172   train_loss = 1.701\n",
      "Epoch 126 Batch    0/172   train_loss = 1.794\n",
      "Epoch 126 Batch   86/172   train_loss = 1.795\n",
      "Epoch 127 Batch    0/172   train_loss = 1.707\n",
      "Epoch 127 Batch   86/172   train_loss = 1.714\n",
      "Epoch 128 Batch    0/172   train_loss = 1.742\n",
      "Epoch 128 Batch   86/172   train_loss = 1.665\n",
      "Epoch 129 Batch    0/172   train_loss = 1.783\n",
      "Epoch 129 Batch   86/172   train_loss = 1.725\n",
      "Epoch 130 Batch    0/172   train_loss = 1.785\n",
      "Epoch 130 Batch   86/172   train_loss = 1.753\n",
      "Epoch 131 Batch    0/172   train_loss = 1.700\n",
      "Epoch 131 Batch   86/172   train_loss = 1.663\n",
      "Epoch 132 Batch    0/172   train_loss = 1.677\n",
      "Epoch 132 Batch   86/172   train_loss = 1.782\n",
      "Epoch 133 Batch    0/172   train_loss = 1.678\n",
      "Epoch 133 Batch   86/172   train_loss = 1.673\n",
      "Epoch 134 Batch    0/172   train_loss = 1.619\n",
      "Epoch 134 Batch   86/172   train_loss = 1.725\n",
      "Epoch 135 Batch    0/172   train_loss = 1.678\n",
      "Epoch 135 Batch   86/172   train_loss = 1.670\n",
      "Epoch 136 Batch    0/172   train_loss = 1.800\n",
      "Epoch 136 Batch   86/172   train_loss = 1.711\n",
      "Epoch 137 Batch    0/172   train_loss = 1.681\n",
      "Epoch 137 Batch   86/172   train_loss = 1.623\n",
      "Epoch 138 Batch    0/172   train_loss = 1.726\n",
      "Epoch 138 Batch   86/172   train_loss = 1.735\n",
      "Epoch 139 Batch    0/172   train_loss = 1.722\n",
      "Epoch 139 Batch   86/172   train_loss = 1.686\n",
      "Epoch 140 Batch    0/172   train_loss = 1.699\n",
      "Epoch 140 Batch   86/172   train_loss = 1.698\n",
      "Epoch 141 Batch    0/172   train_loss = 1.687\n",
      "Epoch 141 Batch   86/172   train_loss = 1.769\n",
      "Epoch 142 Batch    0/172   train_loss = 1.675\n",
      "Epoch 142 Batch   86/172   train_loss = 1.693\n",
      "Epoch 143 Batch    0/172   train_loss = 1.693\n",
      "Epoch 143 Batch   86/172   train_loss = 1.579\n",
      "Epoch 144 Batch    0/172   train_loss = 1.705\n",
      "Epoch 144 Batch   86/172   train_loss = 1.660\n",
      "Epoch 145 Batch    0/172   train_loss = 1.699\n",
      "Epoch 145 Batch   86/172   train_loss = 1.705\n",
      "Epoch 146 Batch    0/172   train_loss = 1.714\n",
      "Epoch 146 Batch   86/172   train_loss = 1.690\n",
      "Epoch 147 Batch    0/172   train_loss = 1.704\n",
      "Epoch 147 Batch   86/172   train_loss = 1.580\n",
      "Epoch 148 Batch    0/172   train_loss = 1.704\n",
      "Epoch 148 Batch   86/172   train_loss = 1.715\n",
      "Epoch 149 Batch    0/172   train_loss = 1.760\n",
      "Epoch 149 Batch   86/172   train_loss = 1.606\n",
      "Epoch 150 Batch    0/172   train_loss = 1.653\n",
      "Epoch 150 Batch   86/172   train_loss = 1.800\n",
      "Epoch 151 Batch    0/172   train_loss = 1.687\n",
      "Epoch 151 Batch   86/172   train_loss = 1.618\n",
      "Epoch 152 Batch    0/172   train_loss = 1.657\n",
      "Epoch 152 Batch   86/172   train_loss = 1.685\n",
      "Epoch 153 Batch    0/172   train_loss = 1.583\n",
      "Epoch 153 Batch   86/172   train_loss = 1.634\n",
      "Epoch 154 Batch    0/172   train_loss = 1.647\n",
      "Epoch 154 Batch   86/172   train_loss = 1.694\n",
      "Epoch 155 Batch    0/172   train_loss = 1.672\n",
      "Epoch 155 Batch   86/172   train_loss = 1.658\n",
      "Epoch 156 Batch    0/172   train_loss = 1.689\n",
      "Epoch 156 Batch   86/172   train_loss = 1.597\n",
      "Epoch 157 Batch    0/172   train_loss = 1.649\n",
      "Epoch 157 Batch   86/172   train_loss = 1.660\n",
      "Epoch 158 Batch    0/172   train_loss = 1.718\n",
      "Epoch 158 Batch   86/172   train_loss = 1.685\n",
      "Epoch 159 Batch    0/172   train_loss = 1.716\n",
      "Epoch 159 Batch   86/172   train_loss = 1.588\n",
      "Epoch 160 Batch    0/172   train_loss = 1.741\n",
      "Epoch 160 Batch   86/172   train_loss = 1.609\n",
      "Epoch 161 Batch    0/172   train_loss = 1.697\n",
      "Epoch 161 Batch   86/172   train_loss = 1.515\n",
      "Epoch 162 Batch    0/172   train_loss = 1.711\n",
      "Epoch 162 Batch   86/172   train_loss = 1.608\n",
      "Epoch 163 Batch    0/172   train_loss = 1.688\n",
      "Epoch 163 Batch   86/172   train_loss = 1.611\n",
      "Epoch 164 Batch    0/172   train_loss = 1.643\n",
      "Epoch 164 Batch   86/172   train_loss = 1.520\n",
      "Epoch 165 Batch    0/172   train_loss = 1.571\n",
      "Epoch 165 Batch   86/172   train_loss = 1.541\n",
      "Epoch 166 Batch    0/172   train_loss = 1.591\n",
      "Epoch 166 Batch   86/172   train_loss = 1.594\n",
      "Epoch 167 Batch    0/172   train_loss = 1.676\n",
      "Epoch 167 Batch   86/172   train_loss = 1.492\n",
      "Epoch 168 Batch    0/172   train_loss = 1.564\n",
      "Epoch 168 Batch   86/172   train_loss = 1.506\n",
      "Epoch 169 Batch    0/172   train_loss = 1.661\n",
      "Epoch 169 Batch   86/172   train_loss = 1.544\n",
      "Epoch 170 Batch    0/172   train_loss = 1.659\n",
      "Epoch 170 Batch   86/172   train_loss = 1.572\n",
      "Epoch 171 Batch    0/172   train_loss = 1.573\n",
      "Epoch 171 Batch   86/172   train_loss = 1.582\n",
      "Epoch 172 Batch    0/172   train_loss = 1.565\n",
      "Epoch 172 Batch   86/172   train_loss = 1.559\n",
      "Epoch 173 Batch    0/172   train_loss = 1.624\n",
      "Epoch 173 Batch   86/172   train_loss = 1.607\n",
      "Epoch 174 Batch    0/172   train_loss = 1.537\n",
      "Epoch 174 Batch   86/172   train_loss = 1.533\n",
      "Epoch 175 Batch    0/172   train_loss = 1.565\n",
      "Epoch 175 Batch   86/172   train_loss = 1.559\n",
      "Epoch 176 Batch    0/172   train_loss = 1.588\n",
      "Epoch 176 Batch   86/172   train_loss = 1.487\n",
      "Epoch 177 Batch    0/172   train_loss = 1.470\n",
      "Epoch 177 Batch   86/172   train_loss = 1.496\n",
      "Epoch 178 Batch    0/172   train_loss = 1.518\n",
      "Epoch 178 Batch   86/172   train_loss = 1.506\n",
      "Epoch 179 Batch    0/172   train_loss = 1.558\n",
      "Epoch 179 Batch   86/172   train_loss = 1.572\n",
      "Epoch 180 Batch    0/172   train_loss = 1.535\n",
      "Epoch 180 Batch   86/172   train_loss = 1.501\n",
      "Epoch 181 Batch    0/172   train_loss = 1.618\n",
      "Epoch 181 Batch   86/172   train_loss = 1.536\n",
      "Epoch 182 Batch    0/172   train_loss = 1.628\n",
      "Epoch 182 Batch   86/172   train_loss = 1.413\n",
      "Epoch 183 Batch    0/172   train_loss = 1.516\n",
      "Epoch 183 Batch   86/172   train_loss = 1.399\n",
      "Epoch 184 Batch    0/172   train_loss = 1.610\n",
      "Epoch 184 Batch   86/172   train_loss = 1.478\n",
      "Epoch 185 Batch    0/172   train_loss = 1.611\n",
      "Epoch 185 Batch   86/172   train_loss = 1.439\n",
      "Epoch 186 Batch    0/172   train_loss = 1.617\n",
      "Epoch 186 Batch   86/172   train_loss = 1.361\n",
      "Epoch 187 Batch    0/172   train_loss = 1.621\n",
      "Epoch 187 Batch   86/172   train_loss = 1.394\n",
      "Epoch 188 Batch    0/172   train_loss = 1.514\n",
      "Epoch 188 Batch   86/172   train_loss = 1.429\n",
      "Epoch 189 Batch    0/172   train_loss = 1.557\n",
      "Epoch 189 Batch   86/172   train_loss = 1.444\n",
      "Epoch 190 Batch    0/172   train_loss = 1.482\n",
      "Epoch 190 Batch   86/172   train_loss = 1.452\n",
      "Epoch 191 Batch    0/172   train_loss = 1.505\n",
      "Epoch 191 Batch   86/172   train_loss = 1.380\n",
      "Epoch 192 Batch    0/172   train_loss = 1.571\n",
      "Epoch 192 Batch   86/172   train_loss = 1.444\n",
      "Epoch 193 Batch    0/172   train_loss = 1.553\n",
      "Epoch 193 Batch   86/172   train_loss = 1.406\n",
      "Epoch 194 Batch    0/172   train_loss = 1.483\n",
      "Epoch 194 Batch   86/172   train_loss = 1.447\n",
      "Epoch 195 Batch    0/172   train_loss = 1.500\n",
      "Epoch 195 Batch   86/172   train_loss = 1.298\n",
      "Epoch 196 Batch    0/172   train_loss = 1.564\n",
      "Epoch 196 Batch   86/172   train_loss = 1.486\n",
      "Epoch 197 Batch    0/172   train_loss = 1.628\n",
      "Epoch 197 Batch   86/172   train_loss = 1.390\n",
      "Epoch 198 Batch    0/172   train_loss = 1.528\n",
      "Epoch 198 Batch   86/172   train_loss = 1.468\n",
      "Epoch 199 Batch    0/172   train_loss = 1.546\n",
      "Epoch 199 Batch   86/172   train_loss = 1.477\n",
      "Epoch 200 Batch    0/172   train_loss = 1.502\n",
      "Epoch 200 Batch   86/172   train_loss = 1.417\n",
      "Epoch 201 Batch    0/172   train_loss = 1.607\n",
      "Epoch 201 Batch   86/172   train_loss = 1.377\n",
      "Epoch 202 Batch    0/172   train_loss = 1.653\n",
      "Epoch 202 Batch   86/172   train_loss = 1.420\n",
      "Epoch 203 Batch    0/172   train_loss = 1.579\n",
      "Epoch 203 Batch   86/172   train_loss = 1.375\n",
      "Epoch 204 Batch    0/172   train_loss = 1.572\n",
      "Epoch 204 Batch   86/172   train_loss = 1.408\n",
      "Epoch 205 Batch    0/172   train_loss = 1.565\n",
      "Epoch 205 Batch   86/172   train_loss = 1.489\n",
      "Epoch 206 Batch    0/172   train_loss = 1.631\n",
      "Epoch 206 Batch   86/172   train_loss = 1.480\n",
      "Epoch 207 Batch    0/172   train_loss = 1.625\n",
      "Epoch 207 Batch   86/172   train_loss = 1.458\n",
      "Epoch 208 Batch    0/172   train_loss = 1.672\n",
      "Epoch 208 Batch   86/172   train_loss = 1.395\n",
      "Epoch 209 Batch    0/172   train_loss = 1.580\n",
      "Epoch 209 Batch   86/172   train_loss = 1.476\n",
      "Epoch 210 Batch    0/172   train_loss = 1.574\n",
      "Epoch 210 Batch   86/172   train_loss = 1.461\n",
      "Epoch 211 Batch    0/172   train_loss = 1.553\n",
      "Epoch 211 Batch   86/172   train_loss = 1.484\n",
      "Epoch 212 Batch    0/172   train_loss = 1.578\n",
      "Epoch 212 Batch   86/172   train_loss = 1.459\n",
      "Epoch 213 Batch    0/172   train_loss = 1.523\n",
      "Epoch 213 Batch   86/172   train_loss = 1.498\n",
      "Epoch 214 Batch    0/172   train_loss = 1.663\n",
      "Epoch 214 Batch   86/172   train_loss = 1.506\n",
      "Epoch 215 Batch    0/172   train_loss = 1.699\n",
      "Epoch 215 Batch   86/172   train_loss = 1.484\n",
      "Epoch 216 Batch    0/172   train_loss = 1.596\n",
      "Epoch 216 Batch   86/172   train_loss = 1.366\n",
      "Epoch 217 Batch    0/172   train_loss = 1.572\n",
      "Epoch 217 Batch   86/172   train_loss = 1.518\n",
      "Epoch 218 Batch    0/172   train_loss = 1.542\n",
      "Epoch 218 Batch   86/172   train_loss = 1.368\n",
      "Epoch 219 Batch    0/172   train_loss = 1.558\n",
      "Epoch 219 Batch   86/172   train_loss = 1.433\n",
      "Epoch 220 Batch    0/172   train_loss = 1.497\n",
      "Epoch 220 Batch   86/172   train_loss = 1.434\n",
      "Epoch 221 Batch    0/172   train_loss = 1.607\n",
      "Epoch 221 Batch   86/172   train_loss = 1.362\n",
      "Epoch 222 Batch    0/172   train_loss = 1.629\n",
      "Epoch 222 Batch   86/172   train_loss = 1.342\n",
      "Epoch 223 Batch    0/172   train_loss = 1.555\n",
      "Epoch 223 Batch   86/172   train_loss = 1.359\n",
      "Epoch 224 Batch    0/172   train_loss = 1.480\n",
      "Epoch 224 Batch   86/172   train_loss = 1.411\n",
      "Epoch 225 Batch    0/172   train_loss = 1.580\n",
      "Epoch 225 Batch   86/172   train_loss = 1.387\n",
      "Epoch 226 Batch    0/172   train_loss = 1.621\n",
      "Epoch 226 Batch   86/172   train_loss = 1.388\n",
      "Epoch 227 Batch    0/172   train_loss = 1.489\n",
      "Epoch 227 Batch   86/172   train_loss = 1.323\n",
      "Epoch 228 Batch    0/172   train_loss = 1.517\n",
      "Epoch 228 Batch   86/172   train_loss = 1.411\n",
      "Epoch 229 Batch    0/172   train_loss = 1.492\n",
      "Epoch 229 Batch   86/172   train_loss = 1.323\n",
      "Epoch 230 Batch    0/172   train_loss = 1.553\n",
      "Epoch 230 Batch   86/172   train_loss = 1.458\n",
      "Epoch 231 Batch    0/172   train_loss = 1.537\n",
      "Epoch 231 Batch   86/172   train_loss = 1.480\n",
      "Epoch 232 Batch    0/172   train_loss = 1.494\n",
      "Epoch 232 Batch   86/172   train_loss = 1.387\n",
      "Epoch 233 Batch    0/172   train_loss = 1.524\n",
      "Epoch 233 Batch   86/172   train_loss = 1.379\n",
      "Epoch 234 Batch    0/172   train_loss = 1.553\n",
      "Epoch 234 Batch   86/172   train_loss = 1.323\n",
      "Epoch 235 Batch    0/172   train_loss = 1.444\n",
      "Epoch 235 Batch   86/172   train_loss = 1.382\n",
      "Epoch 236 Batch    0/172   train_loss = 1.482\n",
      "Epoch 236 Batch   86/172   train_loss = 1.312\n",
      "Epoch 237 Batch    0/172   train_loss = 1.475\n",
      "Epoch 237 Batch   86/172   train_loss = 1.340\n",
      "Epoch 238 Batch    0/172   train_loss = 1.513\n",
      "Epoch 238 Batch   86/172   train_loss = 1.343\n",
      "Epoch 239 Batch    0/172   train_loss = 1.434\n",
      "Epoch 239 Batch   86/172   train_loss = 1.252\n",
      "Epoch 240 Batch    0/172   train_loss = 1.500\n",
      "Epoch 240 Batch   86/172   train_loss = 1.246\n",
      "Epoch 241 Batch    0/172   train_loss = 1.502\n",
      "Epoch 241 Batch   86/172   train_loss = 1.396\n",
      "Epoch 242 Batch    0/172   train_loss = 1.484\n",
      "Epoch 242 Batch   86/172   train_loss = 1.462\n"
     ]
    },
    {
     "ename": "KeyboardInterrupt",
     "evalue": "",
     "output_type": "error",
     "traceback": [
      "\u001b[0;31m---------------------------------------------------------------------------\u001b[0m",
      "\u001b[0;31mKeyboardInterrupt\u001b[0m                         Traceback (most recent call last)",
      "\u001b[0;32m<ipython-input-65-396c263e7e73>\u001b[0m in \u001b[0;36m<module>\u001b[0;34m()\u001b[0m\n\u001b[1;32m     16\u001b[0m                 \u001b[0minitial_state\u001b[0m\u001b[0;34m:\u001b[0m \u001b[0mstate\u001b[0m\u001b[0;34m,\u001b[0m\u001b[0;34m\u001b[0m\u001b[0m\n\u001b[1;32m     17\u001b[0m                 lr: learning_rate}\n\u001b[0;32m---> 18\u001b[0;31m             \u001b[0mtrain_loss\u001b[0m\u001b[0;34m,\u001b[0m \u001b[0mstate\u001b[0m\u001b[0;34m,\u001b[0m \u001b[0m_\u001b[0m \u001b[0;34m=\u001b[0m \u001b[0msess\u001b[0m\u001b[0;34m.\u001b[0m\u001b[0mrun\u001b[0m\u001b[0;34m(\u001b[0m\u001b[0;34m[\u001b[0m\u001b[0mcost\u001b[0m\u001b[0;34m,\u001b[0m \u001b[0mfinal_state\u001b[0m\u001b[0;34m,\u001b[0m \u001b[0mtrain_op\u001b[0m\u001b[0;34m]\u001b[0m\u001b[0;34m,\u001b[0m \u001b[0mfeed\u001b[0m\u001b[0;34m)\u001b[0m\u001b[0;34m\u001b[0m\u001b[0m\n\u001b[0m\u001b[1;32m     19\u001b[0m \u001b[0;34m\u001b[0m\u001b[0m\n\u001b[1;32m     20\u001b[0m             \u001b[0;31m# Show every <show_every_n_batches> batches\u001b[0m\u001b[0;34m\u001b[0m\u001b[0;34m\u001b[0m\u001b[0m\n",
      "\u001b[0;32m/home/carnd/anaconda3/envs/dl/lib/python3.5/site-packages/tensorflow/python/client/session.py\u001b[0m in \u001b[0;36mrun\u001b[0;34m(self, fetches, feed_dict, options, run_metadata)\u001b[0m\n\u001b[1;32m    765\u001b[0m     \u001b[0;32mtry\u001b[0m\u001b[0;34m:\u001b[0m\u001b[0;34m\u001b[0m\u001b[0m\n\u001b[1;32m    766\u001b[0m       result = self._run(None, fetches, feed_dict, options_ptr,\n\u001b[0;32m--> 767\u001b[0;31m                          run_metadata_ptr)\n\u001b[0m\u001b[1;32m    768\u001b[0m       \u001b[0;32mif\u001b[0m \u001b[0mrun_metadata\u001b[0m\u001b[0;34m:\u001b[0m\u001b[0;34m\u001b[0m\u001b[0m\n\u001b[1;32m    769\u001b[0m         \u001b[0mproto_data\u001b[0m \u001b[0;34m=\u001b[0m \u001b[0mtf_session\u001b[0m\u001b[0;34m.\u001b[0m\u001b[0mTF_GetBuffer\u001b[0m\u001b[0;34m(\u001b[0m\u001b[0mrun_metadata_ptr\u001b[0m\u001b[0;34m)\u001b[0m\u001b[0;34m\u001b[0m\u001b[0m\n",
      "\u001b[0;32m/home/carnd/anaconda3/envs/dl/lib/python3.5/site-packages/tensorflow/python/client/session.py\u001b[0m in \u001b[0;36m_run\u001b[0;34m(self, handle, fetches, feed_dict, options, run_metadata)\u001b[0m\n\u001b[1;32m    963\u001b[0m     \u001b[0;32mif\u001b[0m \u001b[0mfinal_fetches\u001b[0m \u001b[0;32mor\u001b[0m \u001b[0mfinal_targets\u001b[0m\u001b[0;34m:\u001b[0m\u001b[0;34m\u001b[0m\u001b[0m\n\u001b[1;32m    964\u001b[0m       results = self._do_run(handle, final_targets, final_fetches,\n\u001b[0;32m--> 965\u001b[0;31m                              feed_dict_string, options, run_metadata)\n\u001b[0m\u001b[1;32m    966\u001b[0m     \u001b[0;32melse\u001b[0m\u001b[0;34m:\u001b[0m\u001b[0;34m\u001b[0m\u001b[0m\n\u001b[1;32m    967\u001b[0m       \u001b[0mresults\u001b[0m \u001b[0;34m=\u001b[0m \u001b[0;34m[\u001b[0m\u001b[0;34m]\u001b[0m\u001b[0;34m\u001b[0m\u001b[0m\n",
      "\u001b[0;32m/home/carnd/anaconda3/envs/dl/lib/python3.5/site-packages/tensorflow/python/client/session.py\u001b[0m in \u001b[0;36m_do_run\u001b[0;34m(self, handle, target_list, fetch_list, feed_dict, options, run_metadata)\u001b[0m\n\u001b[1;32m   1013\u001b[0m     \u001b[0;32mif\u001b[0m \u001b[0mhandle\u001b[0m \u001b[0;32mis\u001b[0m \u001b[0;32mNone\u001b[0m\u001b[0;34m:\u001b[0m\u001b[0;34m\u001b[0m\u001b[0m\n\u001b[1;32m   1014\u001b[0m       return self._do_call(_run_fn, self._session, feed_dict, fetch_list,\n\u001b[0;32m-> 1015\u001b[0;31m                            target_list, options, run_metadata)\n\u001b[0m\u001b[1;32m   1016\u001b[0m     \u001b[0;32melse\u001b[0m\u001b[0;34m:\u001b[0m\u001b[0;34m\u001b[0m\u001b[0m\n\u001b[1;32m   1017\u001b[0m       return self._do_call(_prun_fn, self._session, handle, feed_dict,\n",
      "\u001b[0;32m/home/carnd/anaconda3/envs/dl/lib/python3.5/site-packages/tensorflow/python/client/session.py\u001b[0m in \u001b[0;36m_do_call\u001b[0;34m(self, fn, *args)\u001b[0m\n\u001b[1;32m   1020\u001b[0m   \u001b[0;32mdef\u001b[0m \u001b[0m_do_call\u001b[0m\u001b[0;34m(\u001b[0m\u001b[0mself\u001b[0m\u001b[0;34m,\u001b[0m \u001b[0mfn\u001b[0m\u001b[0;34m,\u001b[0m \u001b[0;34m*\u001b[0m\u001b[0margs\u001b[0m\u001b[0;34m)\u001b[0m\u001b[0;34m:\u001b[0m\u001b[0;34m\u001b[0m\u001b[0m\n\u001b[1;32m   1021\u001b[0m     \u001b[0;32mtry\u001b[0m\u001b[0;34m:\u001b[0m\u001b[0;34m\u001b[0m\u001b[0m\n\u001b[0;32m-> 1022\u001b[0;31m       \u001b[0;32mreturn\u001b[0m \u001b[0mfn\u001b[0m\u001b[0;34m(\u001b[0m\u001b[0;34m*\u001b[0m\u001b[0margs\u001b[0m\u001b[0;34m)\u001b[0m\u001b[0;34m\u001b[0m\u001b[0m\n\u001b[0m\u001b[1;32m   1023\u001b[0m     \u001b[0;32mexcept\u001b[0m \u001b[0merrors\u001b[0m\u001b[0;34m.\u001b[0m\u001b[0mOpError\u001b[0m \u001b[0;32mas\u001b[0m \u001b[0me\u001b[0m\u001b[0;34m:\u001b[0m\u001b[0;34m\u001b[0m\u001b[0m\n\u001b[1;32m   1024\u001b[0m       \u001b[0mmessage\u001b[0m \u001b[0;34m=\u001b[0m \u001b[0mcompat\u001b[0m\u001b[0;34m.\u001b[0m\u001b[0mas_text\u001b[0m\u001b[0;34m(\u001b[0m\u001b[0me\u001b[0m\u001b[0;34m.\u001b[0m\u001b[0mmessage\u001b[0m\u001b[0;34m)\u001b[0m\u001b[0;34m\u001b[0m\u001b[0m\n",
      "\u001b[0;32m/home/carnd/anaconda3/envs/dl/lib/python3.5/site-packages/tensorflow/python/client/session.py\u001b[0m in \u001b[0;36m_run_fn\u001b[0;34m(session, feed_dict, fetch_list, target_list, options, run_metadata)\u001b[0m\n\u001b[1;32m   1002\u001b[0m         return tf_session.TF_Run(session, options,\n\u001b[1;32m   1003\u001b[0m                                  \u001b[0mfeed_dict\u001b[0m\u001b[0;34m,\u001b[0m \u001b[0mfetch_list\u001b[0m\u001b[0;34m,\u001b[0m \u001b[0mtarget_list\u001b[0m\u001b[0;34m,\u001b[0m\u001b[0;34m\u001b[0m\u001b[0m\n\u001b[0;32m-> 1004\u001b[0;31m                                  status, run_metadata)\n\u001b[0m\u001b[1;32m   1005\u001b[0m \u001b[0;34m\u001b[0m\u001b[0m\n\u001b[1;32m   1006\u001b[0m     \u001b[0;32mdef\u001b[0m \u001b[0m_prun_fn\u001b[0m\u001b[0;34m(\u001b[0m\u001b[0msession\u001b[0m\u001b[0;34m,\u001b[0m \u001b[0mhandle\u001b[0m\u001b[0;34m,\u001b[0m \u001b[0mfeed_dict\u001b[0m\u001b[0;34m,\u001b[0m \u001b[0mfetch_list\u001b[0m\u001b[0;34m)\u001b[0m\u001b[0;34m:\u001b[0m\u001b[0;34m\u001b[0m\u001b[0m\n",
      "\u001b[0;31mKeyboardInterrupt\u001b[0m: "
     ]
    }
   ],
   "source": [
    "\"\"\"\n",
    "DON'T MODIFY ANYTHING IN THIS CELL\n",
    "\"\"\"\n",
    "batches = get_batches(int_text, batch_size, seq_length)\n",
    "\n",
    "with tf.Session(graph=train_graph) as sess:\n",
    "    sess.run(tf.global_variables_initializer())\n",
    "\n",
    "    for epoch_i in range(num_epochs):\n",
    "        state = sess.run(initial_state, {input_text: batches[0][0]})\n",
    "\n",
    "        for batch_i, (x, y) in enumerate(batches):\n",
    "            feed = {\n",
    "                input_text: x,\n",
    "                targets: y,\n",
    "                initial_state: state,\n",
    "                lr: learning_rate}\n",
    "            train_loss, state, _ = sess.run([cost, final_state, train_op], feed)\n",
    "\n",
    "            # Show every <show_every_n_batches> batches\n",
    "            if (epoch_i * len(batches) + batch_i) % show_every_n_batches == 0:\n",
    "                print('Epoch {:>3} Batch {:>4}/{}   train_loss = {:.3f}'.format(\n",
    "                    epoch_i,\n",
    "                    batch_i,\n",
    "                    len(batches),\n",
    "                    train_loss))\n",
    "\n",
    "    # Save Model\n",
    "    saver = tf.train.Saver()\n",
    "    saver.save(sess, save_dir)\n",
    "    print('Model Trained and Saved')"
   ]
  },
  {
   "cell_type": "markdown",
   "metadata": {
    "deletable": true,
    "editable": true
   },
   "source": [
    "## Save Parameters\n",
    "Save `seq_length` and `save_dir` for generating a new TV script."
   ]
  },
  {
   "cell_type": "code",
   "execution_count": null,
   "metadata": {
    "ExecuteTime": {
     "end_time": "2017-04-10T21:29:59.654912Z",
     "start_time": "2017-04-10T11:29:54.176Z"
    },
    "collapsed": false,
    "deletable": true,
    "editable": true
   },
   "outputs": [],
   "source": [
    "\"\"\"\n",
    "DON'T MODIFY ANYTHING IN THIS CELL\n",
    "\"\"\"\n",
    "# Save parameters for checkpoint\n",
    "helper.save_params((seq_length, save_dir))"
   ]
  },
  {
   "cell_type": "markdown",
   "metadata": {
    "deletable": true,
    "editable": true
   },
   "source": [
    "# Checkpoint"
   ]
  },
  {
   "cell_type": "code",
   "execution_count": null,
   "metadata": {
    "ExecuteTime": {
     "end_time": "2017-04-10T21:29:59.655217Z",
     "start_time": "2017-04-10T11:29:54.182Z"
    },
    "collapsed": false,
    "deletable": true,
    "editable": true
   },
   "outputs": [],
   "source": [
    "\"\"\"\n",
    "DON'T MODIFY ANYTHING IN THIS CELL\n",
    "\"\"\"\n",
    "import tensorflow as tf\n",
    "import numpy as np\n",
    "import helper\n",
    "import problem_unittests as tests\n",
    "\n",
    "_, vocab_to_int, int_to_vocab, token_dict = helper.load_preprocess()\n",
    "seq_length, load_dir = helper.load_params()"
   ]
  },
  {
   "cell_type": "markdown",
   "metadata": {
    "deletable": true,
    "editable": true
   },
   "source": [
    "## Implement Generate Functions\n",
    "### Get Tensors\n",
    "Get tensors from `loaded_graph` using the function [`get_tensor_by_name()`](https://www.tensorflow.org/api_docs/python/tf/Graph#get_tensor_by_name).  Get the tensors using the following names:\n",
    "- \"input:0\"\n",
    "- \"initial_state:0\"\n",
    "- \"final_state:0\"\n",
    "- \"probs:0\"\n",
    "\n",
    "Return the tensors in the following tuple `(InputTensor, InitialStateTensor, FinalStateTensor, ProbsTensor)` "
   ]
  },
  {
   "cell_type": "code",
   "execution_count": null,
   "metadata": {
    "ExecuteTime": {
     "end_time": "2017-04-10T21:29:59.655501Z",
     "start_time": "2017-04-10T11:29:54.188Z"
    },
    "collapsed": false,
    "deletable": true,
    "editable": true
   },
   "outputs": [],
   "source": [
    "def get_tensors(loaded_graph):\n",
    "    \"\"\"\n",
    "    Get input, initial state, final state, and probabilities tensor from <loaded_graph>\n",
    "    :param loaded_graph: TensorFlow graph loaded from file\n",
    "    :return: Tuple (InputTensor, InitialStateTensor, FinalStateTensor, ProbsTensor)\n",
    "    \"\"\"\n",
    "    # TODO: Implement Function\n",
    "    return None, None, None, None\n",
    "\n",
    "\n",
    "\"\"\"\n",
    "DON'T MODIFY ANYTHING IN THIS CELL THAT IS BELOW THIS LINE\n",
    "\"\"\"\n",
    "tests.test_get_tensors(get_tensors)"
   ]
  },
  {
   "cell_type": "markdown",
   "metadata": {
    "deletable": true,
    "editable": true
   },
   "source": [
    "### Choose Word\n",
    "Implement the `pick_word()` function to select the next word using `probabilities`."
   ]
  },
  {
   "cell_type": "code",
   "execution_count": 56,
   "metadata": {
    "ExecuteTime": {
     "end_time": "2017-04-10T21:29:59.655781Z",
     "start_time": "2017-04-10T11:29:54.194Z"
    },
    "collapsed": false,
    "deletable": true,
    "editable": true
   },
   "outputs": [
    {
     "ename": "NameError",
     "evalue": "name 'probabilites' is not defined",
     "output_type": "error",
     "traceback": [
      "\u001b[0;31m---------------------------------------------------------------------------\u001b[0m",
      "\u001b[0;31mNameError\u001b[0m                                 Traceback (most recent call last)",
      "\u001b[0;32m<ipython-input-56-43f5a68ac164>\u001b[0m in \u001b[0;36m<module>\u001b[0;34m()\u001b[0m\n\u001b[1;32m     13\u001b[0m \u001b[0mDON\u001b[0m\u001b[0;31m'\u001b[0m\u001b[0mT\u001b[0m \u001b[0mMODIFY\u001b[0m \u001b[0mANYTHING\u001b[0m \u001b[0mIN\u001b[0m \u001b[0mTHIS\u001b[0m \u001b[0mCELL\u001b[0m \u001b[0mTHAT\u001b[0m \u001b[0mIS\u001b[0m \u001b[0mBELOW\u001b[0m \u001b[0mTHIS\u001b[0m \u001b[0mLINE\u001b[0m\u001b[0;34m\u001b[0m\u001b[0m\n\u001b[1;32m     14\u001b[0m \"\"\"\n\u001b[0;32m---> 15\u001b[0;31m \u001b[0mtests\u001b[0m\u001b[0;34m.\u001b[0m\u001b[0mtest_pick_word\u001b[0m\u001b[0;34m(\u001b[0m\u001b[0mpick_word\u001b[0m\u001b[0;34m)\u001b[0m\u001b[0;34m\u001b[0m\u001b[0m\n\u001b[0m",
      "\u001b[0;32m/home/carnd/udacity_dlfnd_project_3/problem_unittests.py\u001b[0m in \u001b[0;36mtest_pick_word\u001b[0;34m(pick_word)\u001b[0m\n\u001b[1;32m    283\u001b[0m         \u001b[0mtest_int_to_vocab\u001b[0m \u001b[0;34m=\u001b[0m \u001b[0;34m{\u001b[0m\u001b[0mword_i\u001b[0m\u001b[0;34m:\u001b[0m \u001b[0mword\u001b[0m \u001b[0;32mfor\u001b[0m \u001b[0mword_i\u001b[0m\u001b[0;34m,\u001b[0m \u001b[0mword\u001b[0m \u001b[0;32min\u001b[0m \u001b[0menumerate\u001b[0m\u001b[0;34m(\u001b[0m\u001b[0;34m[\u001b[0m\u001b[0;34m'this'\u001b[0m\u001b[0;34m,\u001b[0m \u001b[0;34m'is'\u001b[0m\u001b[0;34m,\u001b[0m \u001b[0;34m'a'\u001b[0m\u001b[0;34m,\u001b[0m \u001b[0;34m'test'\u001b[0m\u001b[0;34m]\u001b[0m\u001b[0;34m)\u001b[0m\u001b[0;34m}\u001b[0m\u001b[0;34m\u001b[0m\u001b[0m\n\u001b[1;32m    284\u001b[0m \u001b[0;34m\u001b[0m\u001b[0m\n\u001b[0;32m--> 285\u001b[0;31m         \u001b[0mpred_word\u001b[0m \u001b[0;34m=\u001b[0m \u001b[0mpick_word\u001b[0m\u001b[0;34m(\u001b[0m\u001b[0mtest_probabilities\u001b[0m\u001b[0;34m,\u001b[0m \u001b[0mtest_int_to_vocab\u001b[0m\u001b[0;34m)\u001b[0m\u001b[0;34m\u001b[0m\u001b[0m\n\u001b[0m\u001b[1;32m    286\u001b[0m \u001b[0;34m\u001b[0m\u001b[0m\n\u001b[1;32m    287\u001b[0m         \u001b[0;31m# Check type\u001b[0m\u001b[0;34m\u001b[0m\u001b[0;34m\u001b[0m\u001b[0m\n",
      "\u001b[0;32m<ipython-input-56-43f5a68ac164>\u001b[0m in \u001b[0;36mpick_word\u001b[0;34m(probabilities, int_to_vocab)\u001b[0m\n\u001b[1;32m      7\u001b[0m     \"\"\"\n\u001b[1;32m      8\u001b[0m \u001b[0;34m\u001b[0m\u001b[0m\n\u001b[0;32m----> 9\u001b[0;31m     \u001b[0;32mreturn\u001b[0m \u001b[0mnp\u001b[0m\u001b[0;34m.\u001b[0m\u001b[0mrandom\u001b[0m\u001b[0;34m.\u001b[0m\u001b[0mchoice\u001b[0m\u001b[0;34m(\u001b[0m\u001b[0mlist\u001b[0m\u001b[0;34m(\u001b[0m\u001b[0mint_to_vocab\u001b[0m\u001b[0;34m.\u001b[0m\u001b[0mvalues\u001b[0m\u001b[0;34m(\u001b[0m\u001b[0;34m)\u001b[0m\u001b[0;34m)\u001b[0m\u001b[0;34m,\u001b[0m \u001b[0mprobabilites\u001b[0m\u001b[0;34m)\u001b[0m\u001b[0;34m\u001b[0m\u001b[0m\n\u001b[0m\u001b[1;32m     10\u001b[0m \u001b[0;34m\u001b[0m\u001b[0m\n\u001b[1;32m     11\u001b[0m \u001b[0;34m\u001b[0m\u001b[0m\n",
      "\u001b[0;31mNameError\u001b[0m: name 'probabilites' is not defined"
     ]
    }
   ],
   "source": [
    "def pick_word(probabilities, int_to_vocab):\n",
    "    \"\"\"\n",
    "    Pick the next word in the generated text\n",
    "    :param probabilities: Probabilites of the next word\n",
    "    :param int_to_vocab: Dictionary of word ids as the keys and words as the values\n",
    "    :return: String of the predicted word\n",
    "    \"\"\"\n",
    "    \n",
    "    return np.random.choice(list(int_to_vocab.values()), probabilites)\n",
    "\n",
    "\n",
    "\"\"\"\n",
    "DON'T MODIFY ANYTHING IN THIS CELL THAT IS BELOW THIS LINE\n",
    "\"\"\"\n",
    "tests.test_pick_word(pick_word)"
   ]
  },
  {
   "cell_type": "markdown",
   "metadata": {
    "deletable": true,
    "editable": true
   },
   "source": [
    "## Generate TV Script\n",
    "This will generate the TV script for you.  Set `gen_length` to the length of TV script you want to generate."
   ]
  },
  {
   "cell_type": "code",
   "execution_count": null,
   "metadata": {
    "ExecuteTime": {
     "end_time": "2017-04-10T21:29:59.656072Z",
     "start_time": "2017-04-10T11:29:54.200Z"
    },
    "collapsed": false,
    "deletable": true,
    "editable": true
   },
   "outputs": [],
   "source": [
    "gen_length = 200\n",
    "# homer_simpson, moe_szyslak, or Barney_Gumble\n",
    "prime_word = 'moe_szyslak'\n",
    "\n",
    "\"\"\"\n",
    "DON'T MODIFY ANYTHING IN THIS CELL THAT IS BELOW THIS LINE\n",
    "\"\"\"\n",
    "loaded_graph = tf.Graph()\n",
    "with tf.Session(graph=loaded_graph) as sess:\n",
    "    # Load saved model\n",
    "    loader = tf.train.import_meta_graph(load_dir + '.meta')\n",
    "    loader.restore(sess, load_dir)\n",
    "\n",
    "    # Get Tensors from loaded model\n",
    "    input_text, initial_state, final_state, probs = get_tensors(loaded_graph)\n",
    "\n",
    "    # Sentences generation setup\n",
    "    gen_sentences = [prime_word + ':']\n",
    "    prev_state = sess.run(initial_state, {input_text: np.array([[1]])})\n",
    "\n",
    "    # Generate sentences\n",
    "    for n in range(gen_length):\n",
    "        # Dynamic Input\n",
    "        dyn_input = [[vocab_to_int[word] for word in gen_sentences[-seq_length:]]]\n",
    "        dyn_seq_length = len(dyn_input[0])\n",
    "\n",
    "        # Get Prediction\n",
    "        probabilities, prev_state = sess.run(\n",
    "            [probs, final_state],\n",
    "            {input_text: dyn_input, initial_state: prev_state})\n",
    "        \n",
    "        pred_word = pick_word(probabilities[dyn_seq_length-1], int_to_vocab)\n",
    "\n",
    "        gen_sentences.append(pred_word)\n",
    "    \n",
    "    # Remove tokens\n",
    "    tv_script = ' '.join(gen_sentences)\n",
    "    for key, token in token_dict.items():\n",
    "        ending = ' ' if key in ['\\n', '(', '\"'] else ''\n",
    "        tv_script = tv_script.replace(' ' + token.lower(), key)\n",
    "    tv_script = tv_script.replace('\\n ', '\\n')\n",
    "    tv_script = tv_script.replace('( ', '(')\n",
    "        \n",
    "    print(tv_script)"
   ]
  },
  {
   "cell_type": "markdown",
   "metadata": {
    "deletable": true,
    "editable": true
   },
   "source": [
    "# The TV Script is Nonsensical\n",
    "It's ok if the TV script doesn't make any sense.  We trained on less than a megabyte of text.  In order to get good results, you'll have to use a smaller vocabulary or get more data.  Luckly there's more data!  As we mentioned in the begging of this project, this is a subset of [another dataset](https://www.kaggle.com/wcukierski/the-simpsons-by-the-data).  We didn't have you train on all the data, because that would take too long.  However, you are free to train your neural network on all the data.  After you complete the project, of course.\n",
    "# Submitting This Project\n",
    "When submitting this project, make sure to run all the cells before saving the notebook. Save the notebook file as \"dlnd_tv_script_generation.ipynb\" and save it as a HTML file under \"File\" -> \"Download as\". Include the \"helper.py\" and \"problem_unittests.py\" files in your submission."
   ]
  }
 ],
 "metadata": {
  "kernelspec": {
   "display_name": "Python 3",
   "language": "python",
   "name": "python3"
  },
  "language_info": {
   "codemirror_mode": {
    "name": "ipython",
    "version": 3
   },
   "file_extension": ".py",
   "mimetype": "text/x-python",
   "name": "python",
   "nbconvert_exporter": "python",
   "pygments_lexer": "ipython3",
   "version": "3.5.2"
  },
  "toc": {
   "colors": {
    "hover_highlight": "#DAA520",
    "running_highlight": "#FF0000",
    "selected_highlight": "#FFD700"
   },
   "moveMenuLeft": true,
   "nav_menu": {
    "height": "512px",
    "width": "252px"
   },
   "navigate_menu": true,
   "number_sections": true,
   "sideBar": true,
   "threshold": 4,
   "toc_cell": false,
   "toc_section_display": "block",
   "toc_window_display": false,
   "widenNotebook": false
  }
 },
 "nbformat": 4,
 "nbformat_minor": 0
}
